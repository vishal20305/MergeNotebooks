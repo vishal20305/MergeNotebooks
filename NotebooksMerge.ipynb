{
  "nbformat": 4,
  "nbformat_minor": 0,
  "metadata": {
    "colab": {
      "provenance": []
    },
    "kernelspec": {
      "name": "python3",
      "display_name": "Python 3"
    },
    "language_info": {
      "name": "python"
    }
  },
  "cells": [
    {
      "cell_type": "code",
      "execution_count": 1,
      "metadata": {
        "colab": {
          "base_uri": "https://localhost:8080/"
        },
        "id": "ZCk8TjZf3AYV",
        "outputId": "8e5c85b5-7789-4fe2-f598-15f51228eac9"
      },
      "outputs": [
        {
          "output_type": "stream",
          "name": "stdout",
          "text": [
            "Requirement already satisfied: nbformat in /usr/local/lib/python3.10/dist-packages (5.10.4)\n",
            "Requirement already satisfied: fastjsonschema>=2.15 in /usr/local/lib/python3.10/dist-packages (from nbformat) (2.19.1)\n",
            "Requirement already satisfied: jsonschema>=2.6 in /usr/local/lib/python3.10/dist-packages (from nbformat) (4.19.2)\n",
            "Requirement already satisfied: jupyter-core!=5.0.*,>=4.12 in /usr/local/lib/python3.10/dist-packages (from nbformat) (5.7.2)\n",
            "Requirement already satisfied: traitlets>=5.1 in /usr/local/lib/python3.10/dist-packages (from nbformat) (5.7.1)\n",
            "Requirement already satisfied: attrs>=22.2.0 in /usr/local/lib/python3.10/dist-packages (from jsonschema>=2.6->nbformat) (23.2.0)\n",
            "Requirement already satisfied: jsonschema-specifications>=2023.03.6 in /usr/local/lib/python3.10/dist-packages (from jsonschema>=2.6->nbformat) (2023.12.1)\n",
            "Requirement already satisfied: referencing>=0.28.4 in /usr/local/lib/python3.10/dist-packages (from jsonschema>=2.6->nbformat) (0.35.1)\n",
            "Requirement already satisfied: rpds-py>=0.7.1 in /usr/local/lib/python3.10/dist-packages (from jsonschema>=2.6->nbformat) (0.18.1)\n",
            "Requirement already satisfied: platformdirs>=2.5 in /usr/local/lib/python3.10/dist-packages (from jupyter-core!=5.0.*,>=4.12->nbformat) (4.2.1)\n"
          ]
        }
      ],
      "source": [
        "pip install nbformat\n"
      ]
    },
    {
      "cell_type": "code",
      "source": [
        "import os\n",
        "import nbformat\n",
        "import re\n",
        "\n",
        "def numerical_sort(value):\n",
        "    \"\"\" Helper function to sort strings containing numbers in numeric order \"\"\"\n",
        "    parts = re.split(r'(\\d+)', value)\n",
        "    return [int(part) if part.isdigit() else part for part in parts]\n",
        "\n",
        "def merge_notebooks(folder_path, output_path):\n",
        "    # Initialize an empty notebook\n",
        "    merged_notebook = nbformat.v4.new_notebook()\n",
        "\n",
        "    # List all .ipynb files in the folder\n",
        "    notebooks = [f for f in os.listdir(folder_path) if f.endswith('.ipynb')]\n",
        "\n",
        "    # Sort the notebooks numerically\n",
        "    notebooks.sort(key=numerical_sort)\n",
        "\n",
        "    for notebook_file in notebooks:\n",
        "        # Create a markdown cell with the filename\n",
        "        filename_cell = nbformat.v4.new_markdown_cell(f'# {notebook_file}')\n",
        "\n",
        "        # Append the filename cell to the merged notebook\n",
        "        merged_notebook.cells.append(filename_cell)\n",
        "\n",
        "        # Read each notebook\n",
        "        notebook_path = os.path.join(folder_path, notebook_file)\n",
        "        with open(notebook_path, 'r', encoding='utf-8') as f:\n",
        "            notebook = nbformat.read(f, as_version=4)\n",
        "            # Append cells from the current notebook to the merged notebook\n",
        "            merged_notebook.cells.extend(notebook.cells)\n",
        "\n",
        "    # Write the merged notebook to the output file\n",
        "    with open(output_path, 'w', encoding='utf-8') as f:\n",
        "        nbformat.write(merged_notebook, f)\n",
        "\n",
        "# Specify the folder containing the .ipynb files and the output file path\n",
        "folder_path = 'path/to/your/folder'\n",
        "output_path = 'path/to/your/merged_notebook.ipynb'\n",
        "\n",
        "# Merge the notebooks\n",
        "merge_notebooks(folder_path, output_path)\n"
      ],
      "metadata": {
        "id": "YiVlyaX23X4E"
      },
      "execution_count": null,
      "outputs": []
    }
  ]
}